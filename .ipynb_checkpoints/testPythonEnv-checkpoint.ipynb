{
 "cells": [
  {
   "cell_type": "markdown",
   "metadata": {},
   "source": [
    "## Numpy"
   ]
  },
  {
   "cell_type": "code",
   "execution_count": null,
   "metadata": {
    "collapsed": true
   },
   "outputs": [],
   "source": [
    "import numpy as np\n",
    "\n",
    "openArray = np.array([1,2,3,3], dtype='float64')\n",
    "highArray = np.array([2,3,4,3], dtype='float64')\n",
    "lowArray = np.array([0.5, 1.5, 2.5,1.5], dtype='float64')\n",
    "closeArray = np.array([1.5, 2.5,3.5, 2.5], dtype='float64')"
   ]
  },
  {
   "cell_type": "markdown",
   "metadata": {},
   "source": [
    "## Pandas"
   ]
  },
  {
   "cell_type": "code",
   "execution_count": null,
   "metadata": {
    "collapsed": true
   },
   "outputs": [],
   "source": [
    "import pandas as pd\n",
    "\n",
    "timeIndex = pd.date_range(\"20180808\",periods=len(closeArray))\n",
    "print(timeIndex)"
   ]
  },
  {
   "cell_type": "code",
   "execution_count": null,
   "metadata": {
    "collapsed": true
   },
   "outputs": [],
   "source": [
    "candleDF = pd.concat([pd.Series(openArray), pd.Series(highArray), pd.Series(lowArray), pd.Series(closeArray)], axis=1, keys =('open', 'high', 'low', 'close') )\n",
    "candleDF.index = timeIndex"
   ]
  },
  {
   "cell_type": "markdown",
   "metadata": {},
   "source": [
    "## talib"
   ]
  },
  {
   "cell_type": "code",
   "execution_count": null,
   "metadata": {
    "collapsed": true
   },
   "outputs": [],
   "source": [
    "import talib as ta\n",
    "\n",
    "EMA = pd.Series(ta.EMA(closeArray,2), index=timeIndex)"
   ]
  },
  {
   "cell_type": "markdown",
   "metadata": {},
   "source": [
    "## matplotlib & mpl_finance"
   ]
  },
  {
   "cell_type": "code",
   "execution_count": null,
   "metadata": {
    "collapsed": true
   },
   "outputs": [],
   "source": [
    "from matplotlib.pylab import date2num\n",
    "\n",
    "candleDF['time'] = list(map(date2num, candleDF.index))\n",
    "candle = candleDF.reindex_axis([\"time\", \"open\", \"high\", \"low\", \"close\"], 1).values"
   ]
  },
  {
   "cell_type": "code",
   "execution_count": null,
   "metadata": {
    "collapsed": true
   },
   "outputs": [],
   "source": [
    "import matplotlib.pyplot as plt\n",
    "import mpl_finance\n",
    "\n",
    "fig, (ax) = plt.subplots(1,1,sharex=True, figsize=(15,7))\n",
    "mpl_finance.candlestick_ohlc(ax, candle, width=0.6, colorup='r', colordown='g',alpha=1.0)\n",
    "ax.plot(EMA)\n",
    "ax.xaxis_date()\n",
    "plt.show()"
   ]
  },
  {
   "cell_type": "markdown",
   "metadata": {},
   "source": [
    "## requests & bs4"
   ]
  },
  {
   "cell_type": "code",
   "execution_count": null,
   "metadata": {
    "collapsed": true
   },
   "outputs": [],
   "source": [
    "import requests\n",
    "r=requests.get(\"http://bbs.fxdayu.com\")"
   ]
  },
  {
   "cell_type": "code",
   "execution_count": null,
   "metadata": {
    "collapsed": true
   },
   "outputs": [],
   "source": [
    "from bs4 import BeautifulSoup\n",
    "import warnings\n",
    "warnings.filterwarnings(\"ignore\")\n",
    "bsObj=BeautifulSoup(r.text)\n",
    "topics=bsObj.findAll(\"div\",{\"class\":\"row\"})"
   ]
  },
  {
   "cell_type": "code",
   "execution_count": null,
   "metadata": {
    "collapsed": true
   },
   "outputs": [],
   "source": [
    "name_list=[]\n",
    "for t in topics:\n",
    "    name=t.find(\"a\",{\"class\":\"username\"})\n",
    "    if  name:\n",
    "        name=name.text\n",
    "    else :\n",
    "        continue\n",
    "    name_list.append(name)\n",
    "print(set(name_list))"
   ]
  },
  {
   "cell_type": "markdown",
   "metadata": {},
   "source": [
    "## Pandas CSV"
   ]
  },
  {
   "cell_type": "code",
   "execution_count": null,
   "metadata": {
    "collapsed": true
   },
   "outputs": [],
   "source": [
    "filename = \"../Day4/1_MongodbInputData/HFData1M.csv\"\n",
    "csv_df = pd.read_csv(filename).iloc[-2000:]\n",
    "csv_df[\"datetime\"] = csv_df[\"datetime\"].apply(pd.to_datetime)\n",
    "csv_df.tail()"
   ]
  },
  {
   "cell_type": "markdown",
   "metadata": {},
   "source": [
    "## MongoDB"
   ]
  },
  {
   "cell_type": "code",
   "execution_count": null,
   "metadata": {
    "collapsed": true
   },
   "outputs": [],
   "source": [
    "from pymongo import MongoClient\n",
    "import os\n",
    "\n",
    "url = os.environ.get(\"MONGODB_URL\", \"localhost:27017\")\n",
    "\n",
    "client = MongoClient(url)\n",
    "collection = client[\"test\"][\"IF88:CTP\"]"
   ]
  },
  {
   "cell_type": "code",
   "execution_count": null,
   "metadata": {
    "collapsed": true
   },
   "outputs": [],
   "source": [
    "# insert\n",
    "result = collection.insert_many(csv_df.to_dict(\"record\"))\n",
    "print(\"Inserted count:\", len(result.inserted_ids))"
   ]
  },
  {
   "cell_type": "code",
   "execution_count": null,
   "metadata": {
    "collapsed": true
   },
   "outputs": [],
   "source": [
    "# read\n",
    "mdata = pd.DataFrame(list(collection.find(projection={\"_id\": 0})))\n",
    "print(mdata.shape)\n",
    "mdata.tail()"
   ]
  },
  {
   "cell_type": "markdown",
   "metadata": {},
   "source": [
    "## hdf"
   ]
  },
  {
   "cell_type": "code",
   "execution_count": null,
   "metadata": {
    "collapsed": true
   },
   "outputs": [],
   "source": [
    "hdf_file = \"./test.hdf\"\n",
    "\n",
    "# write\n",
    "csv_df.to_hdf(hdf_file, \"/table\", mode=\"w\")"
   ]
  },
  {
   "cell_type": "code",
   "execution_count": null,
   "metadata": {
    "collapsed": true
   },
   "outputs": [],
   "source": [
    "# read\n",
    "import os\n",
    "\n",
    "hdata = pd.read_hdf(hdf_file, \"/table\")\n",
    "print(hdata.shape)\n",
    "hdata.tail()"
   ]
  },
  {
   "cell_type": "markdown",
   "metadata": {},
   "source": [
    "## jaqs & factor data"
   ]
  },
  {
   "cell_type": "code",
   "execution_count": null,
   "metadata": {
    "collapsed": true
   },
   "outputs": [],
   "source": [
    "from jaqs_fxdayu.data import DataView # 可以视为一个轻量级的数据库，数据格式基于pandas，方便数据的调用和处理\n",
    "from jaqs_fxdayu.data import RemoteDataService # 数据服务，用于下载数据\n",
    "import os\n",
    "import warnings\n",
    "from datetime import datetime\n",
    "\n",
    "warnings.filterwarnings(\"ignore\")\n",
    "dataview_folder = '../Factor'\n",
    "\n",
    "if not (os.path.isdir(dataview_folder)):\n",
    "    os.makedirs(dataview_folder)\n",
    "\n",
    "# 加载数据\n",
    "\n",
    "dv = DataView()\n",
    "dv.load_dataview(dataview_folder)\n",
    "\n",
    "pb_raw = dv.get_ts(\"pb\")\n",
    "print(pb_raw.head())\n",
    "pb = pb_raw.rename_axis(lambda x: datetime.strptime(str(x),\"%Y%m%d\")).stack()\n",
    "\n",
    "print(pb.head())"
   ]
  },
  {
   "cell_type": "markdown",
   "metadata": {},
   "source": [
    "## alphalens"
   ]
  },
  {
   "cell_type": "code",
   "execution_count": null,
   "metadata": {
    "collapsed": true
   },
   "outputs": [],
   "source": [
    "import alphalens\n",
    "\n",
    "prices = dv.get_ts(\"close_adj\").rename_axis(lambda x: datetime.strptime(str(x),\"%Y%m%d\"))\n",
    "\n",
    "#计算目标股票池每只股票的持有期收益，和对应因子值的quantile分类\n",
    "factor_data = alphalens.utils.get_clean_factor_and_forward_returns(pb, prices, quantiles=5, periods=(1,5,10))\n",
    "factor_data.head()"
   ]
  },
  {
   "cell_type": "markdown",
   "metadata": {},
   "source": [
    "## plot"
   ]
  },
  {
   "cell_type": "code",
   "execution_count": null,
   "metadata": {
    "collapsed": true
   },
   "outputs": [],
   "source": [
    "import matplotlib.pyplot as plt\n",
    "mean_return_by_q, std_err_by_q = alphalens.performance.mean_return_by_quantile(factor_data, by_date=True, demeaned=True)\n",
    "\n",
    "alphalens.plotting.plot_cumulative_returns_by_quantile(mean_return_by_q, 1)\n",
    "alphalens.plotting.plot_cumulative_returns_by_quantile(mean_return_by_q, 5)\n",
    "alphalens.plotting.plot_cumulative_returns_by_quantile(mean_return_by_q, 10)\n",
    "plt.show()"
   ]
  },
  {
   "cell_type": "markdown",
   "metadata": {},
   "source": [
    "## bokeh"
   ]
  },
  {
   "cell_type": "code",
   "execution_count": null,
   "metadata": {
    "collapsed": true
   },
   "outputs": [],
   "source": [
    "from vnpy.trader.utils.htmlplot.xcore import XMultiPlot\n",
    "\n",
    "pdata = csv_df.iloc[-2000:]\n",
    "\n",
    "carray = pdata[\"close\"].values\n",
    "\n",
    "ema = pd.DataFrame(\n",
    "    {\n",
    "        \"ema5\": ta.EMA(carray, 5),\n",
    "        \"ema25\": ta.EMA(carray, 25)\n",
    "    },\n",
    "    index=pdata[\"datetime\"]\n",
    ").reset_index()\n",
    "\n",
    "\n",
    "xmp = XMultiPlot(\"10m\", \"test.html\")\n",
    "xmp.addCandle(pdata, pos=0)\n",
    "xmp.addLine(ema, pos=0)\n",
    "xmp.addVBar(pdata[[\"datetime\", \"volume\"]])\n",
    "xmp.show()"
   ]
  },
  {
   "cell_type": "code",
   "execution_count": null,
   "metadata": {
    "collapsed": true
   },
   "outputs": [],
   "source": []
  }
 ],
 "metadata": {
  "kernelspec": {
   "display_name": "Python 3",
   "language": "python",
   "name": "python3"
  },
  "language_info": {
   "codemirror_mode": {
    "name": "ipython",
    "version": 3
   },
   "file_extension": ".py",
   "mimetype": "text/x-python",
   "name": "python",
   "nbconvert_exporter": "python",
   "pygments_lexer": "ipython3",
   "version": "3.7.4"
  }
 },
 "nbformat": 4,
 "nbformat_minor": 2
}
